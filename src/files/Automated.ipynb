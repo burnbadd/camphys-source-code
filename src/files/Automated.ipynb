{
 "cells": [
  {
   "cell_type": "code",
   "execution_count": 1,
   "metadata": {},
   "outputs": [],
   "source": [
    "import os\n",
    "\n",
    "subject = 'QCM'\n",
    "\n",
    "start = 2022\n",
    "stop = 2008\n",
    "\n",
    "def year(old_name):\n",
    "\n",
    "  length = len(old_name)\n",
    "\n",
    "  for i in range(length):\n",
    "    \n",
    "    if old_name[i:i+2] == \"20\":\n",
    "\n",
    "      if old_name[i+4] != '-':\n",
    "        return old_name[i:i+4]\n",
    "      \n",
    "      else:\n",
    "        return '20' + old_name[i+5:i+7]"
   ]
  },
  {
   "cell_type": "code",
   "execution_count": 3,
   "metadata": {},
   "outputs": [],
   "source": [
    "os.chdir('C:\\Lawrence\\Projects\\Camphys\\my-app\\src/files/'+ subject +'\\PP')\n",
    "\n",
    "files = os.listdir()\n",
    "\n",
    "for i in range(len(files)):\n",
    "  name_i = files[i]\n",
    "  new_name = year(name_i)+'.pdf'\n",
    "  os.rename(name_i, new_name)"
   ]
  },
  {
   "cell_type": "code",
   "execution_count": null,
   "metadata": {},
   "outputs": [],
   "source": [
    "os.chdir('C:\\Lawrence\\Projects\\Camphys\\my-app\\src/files/'+ subject +'\\PPSOL')\n",
    "\n",
    "files = os.listdir()\n",
    "\n",
    "sol_list = []\n",
    "\n",
    "for i in range(len(files)):\n",
    "  name_i = files[i]\n",
    "  sol_list.append(year(name_i))\n",
    "  new_name = 'SOL' + year(name_i) + '.pdf'\n",
    "  os.rename(name_i, new_name)"
   ]
  },
  {
   "cell_type": "code",
   "execution_count": null,
   "metadata": {},
   "outputs": [
    {
     "name": "stdout",
     "output_type": "stream",
     "text": [
      "import PP2022 from \"../files/QCM/PP/2022.pdf\"\n",
      "import PP2021 from \"../files/QCM/PP/2021.pdf\"\n",
      "import PP2020 from \"../files/QCM/PP/2020.pdf\"\n",
      "import PP2019 from \"../files/QCM/PP/2019.pdf\"\n",
      "import PP2018 from \"../files/QCM/PP/2018.pdf\"\n",
      "import PP2017 from \"../files/QCM/PP/2017.pdf\"\n",
      "import PP2016 from \"../files/QCM/PP/2016.pdf\"\n",
      "import PP2015 from \"../files/QCM/PP/2015.pdf\"\n",
      "import PP2014 from \"../files/QCM/PP/2014.pdf\"\n",
      "import PP2013 from \"../files/QCM/PP/2013.pdf\"\n",
      "import PP2012 from \"../files/QCM/PP/2012.pdf\"\n",
      "import PP2011 from \"../files/QCM/PP/2011.pdf\"\n",
      "import PP2010 from \"../files/QCM/PP/2010.pdf\"\n",
      "import PP2009 from \"../files/QCM/PP/2009.pdf\"\n",
      "import PP2008 from \"../files/QCM/PP/2008.pdf\"\n",
      "\n",
      "import SOL2020 from \"../files/QCM/PPSOL/SOL2020.pdf\"\n",
      "import SOL2017 from \"../files/QCM/PPSOL/SOL2017.pdf\"\n",
      "import SOL2016 from \"../files/QCM/PPSOL/SOL2016.pdf\"\n",
      "import SOL2015 from \"../files/QCM/PPSOL/SOL2015.pdf\"\n",
      "import SOL2014 from \"../files/QCM/PPSOL/SOL2014.pdf\"\n",
      "import SOL2013 from \"../files/QCM/PPSOL/SOL2013.pdf\"\n",
      "import SOL2012 from \"../files/QCM/PPSOL/SOL2012.pdf\"\n",
      "import SOL2011 from \"../files/QCM/PPSOL/SOL2011.pdf\"\n",
      "import SOL2010 from \"../files/QCM/PPSOL/SOL2010.pdf\"\n",
      "import SOL2009 from \"../files/QCM/PPSOL/SOL2009.pdf\"\n"
     ]
    }
   ],
   "source": [
    "impPP = 'import PP2008 from \"../files/'+subject+'/PP/2008.pdf\"'\n",
    "\n",
    "length = len(impPP)\n",
    "\n",
    "for i in range(length):\n",
    "  \n",
    "  if impPP[i:i+2] == \"20\":\n",
    "\n",
    "    year_ex = impPP[i:i+4]\n",
    "    break\n",
    "\n",
    "for year in range(start, stop-1, -1):\n",
    "\n",
    "  year = str(year)\n",
    "  print(impPP.replace(year_ex, year))\n",
    "\n",
    "print()\n",
    "\n",
    "impPPSOL = 'import SOL20__ from \"../files/'+subject+'/PPSOL/SOL20__.pdf\"'\n",
    "\n",
    "for year in range(start, stop-1, -1):\n",
    "\n",
    "  #last two digits\n",
    "  yearLT = str(year)[-2:]\n",
    "\n",
    "  if str(year) in sol_list:\n",
    "    print(impPPSOL.replace('__', yearLT))"
   ]
  },
  {
   "cell_type": "code",
   "execution_count": null,
   "metadata": {},
   "outputs": [
    {
     "name": "stdout",
     "output_type": "stream",
     "text": [
      "<a className=\"invalid\">2022</a>\n",
      "<a className=\"invalid\">2021</a>\n",
      "<a href={SOL2020} target = \"blank\">2020</a>\n",
      "<a className=\"invalid\">2019</a>\n",
      "<a className=\"invalid\">2018</a>\n",
      "<a href={SOL2017} target = \"blank\">2017</a>\n",
      "<a href={SOL2016} target = \"blank\">2016</a>\n",
      "<a href={SOL2015} target = \"blank\">2015</a>\n",
      "<a href={SOL2014} target = \"blank\">2014</a>\n",
      "<a href={SOL2013} target = \"blank\">2013</a>\n",
      "<a href={SOL2012} target = \"blank\">2012</a>\n",
      "<a href={SOL2011} target = \"blank\">2011</a>\n",
      "<a href={SOL2010} target = \"blank\">2010</a>\n",
      "<a href={SOL2009} target = \"blank\">2009</a>\n",
      "<a className=\"invalid\">2008</a>\n"
     ]
    }
   ],
   "source": [
    "ex1 = '<a href={SOL20__} target = \"blank\">20__</a>'\n",
    "ex2 = '<a className=\"invalid\">20__</a>'\n",
    "\n",
    "for year in range(start, stop-1, -1):\n",
    "\n",
    "  #last two digits\n",
    "  yearLT = str(year)[-2:]\n",
    "\n",
    "  if str(year) in sol_list:\n",
    "    print(ex1.replace('__', yearLT))\n",
    "  \n",
    "  else:\n",
    "    print(ex2.replace('__', yearLT))"
   ]
  }
 ],
 "metadata": {
  "kernelspec": {
   "display_name": "Python 3.10.5 64-bit",
   "language": "python",
   "name": "python3"
  },
  "language_info": {
   "codemirror_mode": {
    "name": "ipython",
    "version": 3
   },
   "file_extension": ".py",
   "mimetype": "text/x-python",
   "name": "python",
   "nbconvert_exporter": "python",
   "pygments_lexer": "ipython3",
   "version": "3.10.5"
  },
  "orig_nbformat": 4,
  "vscode": {
   "interpreter": {
    "hash": "369f2c481f4da34e4445cda3fffd2e751bd1c4d706f27375911949ba6bb62e1c"
   }
  }
 },
 "nbformat": 4,
 "nbformat_minor": 2
}
